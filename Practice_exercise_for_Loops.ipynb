{
  "nbformat": 4,
  "nbformat_minor": 0,
  "metadata": {
    "colab": {
      "name": "Practice exercise for Loops.ipynb",
      "provenance": [],
      "collapsed_sections": [],
      "include_colab_link": true
    },
    "kernelspec": {
      "name": "python3",
      "display_name": "Python 3"
    },
    "language_info": {
      "name": "python"
    }
  },
  "cells": [
    {
      "cell_type": "markdown",
      "metadata": {
        "id": "view-in-github",
        "colab_type": "text"
      },
      "source": [
        "<a href=\"https://colab.research.google.com/github/Rakesh-Panigrahi/Python/blob/main/Practice_exercise_for_Loops.ipynb\" target=\"_parent\"><img src=\"https://colab.research.google.com/assets/colab-badge.svg\" alt=\"Open In Colab\"/></a>"
      ]
    },
    {
      "cell_type": "code",
      "metadata": {
        "colab": {
          "base_uri": "https://localhost:8080/"
        },
        "id": "YwDpalc3AQuu",
        "outputId": "8551e7d0-4d14-4473-8392-1bc4dcc95c02"
      },
      "source": [
        "# Print First 10 natural numbers using while loop\n",
        "# natural_numbers = int(input(\"Enter the number: \"))\n",
        "i=1\n",
        "while i <= 10:\n",
        "  print(i,end=' ')\n",
        "  i=i+1\n"
      ],
      "execution_count": null,
      "outputs": [
        {
          "output_type": "stream",
          "name": "stdout",
          "text": [
            "1 2 3 4 5 6 7 8 9 10 "
          ]
        }
      ]
    },
    {
      "cell_type": "code",
      "metadata": {
        "colab": {
          "base_uri": "https://localhost:8080/"
        },
        "id": "z1175SjBCIDk",
        "outputId": "5cf79e2f-e3c8-49c3-ce1e-f20183dc367f"
      },
      "source": [
        "# Print the following pattern\n",
        "# 1 \n",
        "# 1 2 \n",
        "# 1 2 3 \n",
        "# 1 2 3 4 \n",
        "# 1 2 3 4 5\n",
        "\n",
        "i=1\n",
        "while i<=5:\n",
        "  j=1\n",
        "  while j<=i:\n",
        "    print(j,end=' ')\n",
        "    j+=1\n",
        "  i+=1\n",
        "  print('\\n')\n"
      ],
      "execution_count": null,
      "outputs": [
        {
          "output_type": "stream",
          "name": "stdout",
          "text": [
            "1 \n",
            "\n",
            "1 2 \n",
            "\n",
            "1 2 3 \n",
            "\n",
            "1 2 3 4 \n",
            "\n",
            "1 2 3 4 5 \n",
            "\n"
          ]
        }
      ]
    },
    {
      "cell_type": "code",
      "metadata": {
        "colab": {
          "base_uri": "https://localhost:8080/"
        },
        "id": "vGwkyy0WCPq6",
        "outputId": "8f495ec3-6291-4a8c-a662-023746962d1d"
      },
      "source": [
        "# Accept number from user and calculate the sum of all number from 1 to a given number\n",
        "user_input = int(input('Enter a number: '))\n",
        "i=1\n",
        "sum=0\n",
        "while i<=user_input:\n",
        "  sum+=i\n",
        "  i+=1\n",
        "  \n",
        "print(f\"The sum is {sum}\")"
      ],
      "execution_count": null,
      "outputs": [
        {
          "output_type": "stream",
          "name": "stdout",
          "text": [
            "Enter a number: 10\n",
            "The sum is 55\n"
          ]
        }
      ]
    },
    {
      "cell_type": "code",
      "metadata": {
        "colab": {
          "base_uri": "https://localhost:8080/"
        },
        "id": "YHPSl3WACUjq",
        "outputId": "9aff4622-583c-4fe5-ff6f-99a806c52ff9"
      },
      "source": [
        "# Print multiplication table of a given number using while loop\n",
        "user_number = int(input(\"Enter a number: \"))\n",
        "i=1\n",
        "while i<=10:\n",
        "  print(f\"{user_number}x{i}={user_number*i}\")\n",
        "  i+=1"
      ],
      "execution_count": null,
      "outputs": [
        {
          "output_type": "stream",
          "name": "stdout",
          "text": [
            "Enter a number: 10\n",
            "10x1=10\n",
            "10x2=20\n",
            "10x3=30\n",
            "10x4=40\n",
            "10x5=50\n",
            "10x6=60\n",
            "10x7=70\n",
            "10x8=80\n",
            "10x9=90\n",
            "10x10=100\n"
          ]
        }
      ]
    },
    {
      "cell_type": "code",
      "metadata": {
        "colab": {
          "base_uri": "https://localhost:8080/"
        },
        "id": "ZjiaArt1Pmw-",
        "outputId": "308c8e54-b6cc-43b4-b190-a8c9d1249d60"
      },
      "source": [
        "# Print multiplication table of a given number using for loop\n",
        "user_input=int(input('Enter a number: '))\n",
        "for z in range(1,11):\n",
        "    print(f\"Multiplication of {user_input}x{z}={user_input*z}\")\n",
        "  \n"
      ],
      "execution_count": null,
      "outputs": [
        {
          "output_type": "stream",
          "name": "stdout",
          "text": [
            "Enter a number: 10\n",
            "Multiplication of 10x1=10\n",
            "Multiplication of 10x2=20\n",
            "Multiplication of 10x3=30\n",
            "Multiplication of 10x4=40\n",
            "Multiplication of 10x5=50\n",
            "Multiplication of 10x6=60\n",
            "Multiplication of 10x7=70\n",
            "Multiplication of 10x8=80\n",
            "Multiplication of 10x9=90\n",
            "Multiplication of 10x10=100\n"
          ]
        }
      ]
    },
    {
      "cell_type": "code",
      "metadata": {
        "id": "OSf9RDxeCU8z",
        "colab": {
          "base_uri": "https://localhost:8080/"
        },
        "outputId": "9f663af2-bbfd-4ce8-8efe-3e3b913bd478"
      },
      "source": [
        "# Given a list, iterate it, and display numbers divisible by five, and if you find a number greater than 150, stop the loop iteration.\n",
        "input_list = []\n",
        "n=int(input('Enter no. of elements: '))\n",
        "for z in range(0,n):\n",
        "  elem_list = int(input())\n",
        "  if (elem_list%5==0) and (elem_list<=150):\n",
        "    input_list.append(elem_list)\n",
        "  elif (elem_list>150):\n",
        "    break\n",
        "print(f\"{input_list}\")\n",
        "  "
      ],
      "execution_count": null,
      "outputs": [
        {
          "output_type": "stream",
          "name": "stdout",
          "text": [
            "Enter no. of elements: 10\n",
            "10\n",
            "10\n",
            "50\n",
            "80\n",
            "200\n",
            "[10, 10, 50, 80]\n"
          ]
        }
      ]
    },
    {
      "cell_type": "code",
      "metadata": {
        "id": "9bOq0FVqCVka",
        "colab": {
          "base_uri": "https://localhost:8080/"
        },
        "outputId": "13e762aa-28d7-4ba8-faad-65349a2f38bc"
      },
      "source": [
        "# Print the following pattern using loop\n",
        "# 5 4 3 2 1 \n",
        "# 4 3 2 1 \n",
        "# 3 2 1 \n",
        "# 2 1 \n",
        "# 1\n",
        " \n",
        "i=5\n",
        "while i>=1:\n",
        "  j=i\n",
        "  while j>=1:\n",
        "    print(j,end=' ')\n",
        "    j=j-1\n",
        "  print('\\n')\n",
        "  i=i-1\n",
        "\n",
        "\n",
        "\n"
      ],
      "execution_count": null,
      "outputs": [
        {
          "output_type": "stream",
          "name": "stdout",
          "text": [
            "5 4 3 2 1 \n",
            "\n",
            "4 3 2 1 \n",
            "\n",
            "3 2 1 \n",
            "\n",
            "2 1 \n",
            "\n",
            "1 \n",
            "\n"
          ]
        }
      ]
    },
    {
      "cell_type": "code",
      "metadata": {
        "id": "VRXXVbRQCVzV",
        "colab": {
          "base_uri": "https://localhost:8080/"
        },
        "outputId": "87953040-181b-4d71-d292-b33d3fbe947d"
      },
      "source": [
        "# Reverse the following list using for loop\n",
        "list1 = [10, 20, 30, 40, 50]\n",
        "list1.reverse()\n",
        "print(list1)\n"
      ],
      "execution_count": null,
      "outputs": [
        {
          "output_type": "stream",
          "name": "stdout",
          "text": [
            "[50, 40, 30, 20, 10]\n"
          ]
        }
      ]
    },
    {
      "cell_type": "code",
      "metadata": {
        "id": "qeatVZJJCWPm",
        "colab": {
          "base_uri": "https://localhost:8080/"
        },
        "outputId": "bad0cfdc-fe2a-4341-ae18-dbb19af674fb"
      },
      "source": [
        "# Display numbers from -10 to -1 using for loop\n",
        "x = list(range(-10,0))\n",
        "print(x)"
      ],
      "execution_count": null,
      "outputs": [
        {
          "output_type": "stream",
          "name": "stdout",
          "text": [
            "[-10, -9, -8, -7, -6, -5, -4, -3, -2, -1]\n"
          ]
        }
      ]
    },
    {
      "cell_type": "code",
      "metadata": {
        "id": "p3l8Yq2HCtd-",
        "colab": {
          "base_uri": "https://localhost:8080/"
        },
        "outputId": "2abdb055-63c0-4325-a380-16604b06514d"
      },
      "source": [
        "# Display a message “Done” after successful execution of for loop\n",
        "for i in range(1):\n",
        "  print('Done')"
      ],
      "execution_count": null,
      "outputs": [
        {
          "output_type": "stream",
          "name": "stdout",
          "text": [
            "Done\n"
          ]
        }
      ]
    },
    {
      "cell_type": "code",
      "metadata": {
        "id": "gvuVuN3-CwkE",
        "colab": {
          "base_uri": "https://localhost:8080/"
        },
        "outputId": "ea9e8b26-e95b-41ca-e9bf-c7f8ad19383b"
      },
      "source": [
        "# Write a program to display all prime numbers within a range\n",
        "# range_input = int(input())\n",
        "for i in range(2,10):\n",
        "  count=0\n",
        "  for j in range(2,i+1):\n",
        "    if i%j==0:\n",
        "      count+=1\n",
        "      if count>1:\n",
        "        print(i) \n",
        "\n"
      ],
      "execution_count": null,
      "outputs": [
        {
          "output_type": "stream",
          "name": "stdout",
          "text": [
            "4\n",
            "6\n",
            "6\n",
            "8\n",
            "8\n",
            "9\n"
          ]
        }
      ]
    },
    {
      "cell_type": "code",
      "metadata": {
        "colab": {
          "base_uri": "https://localhost:8080/"
        },
        "id": "BdWIONcDJADh",
        "outputId": "4a420a40-6b6c-47fa-fbda-6ac5da070e59"
      },
      "source": [
        "i=2\n",
        "while i<15:\n",
        "  count=0\n",
        "  j=2\n",
        "  while j<=i:\n",
        "    if i%j==0:\n",
        "      count=count+1\n",
        "    j=j+1\n",
        "      \n",
        "  i=i+1\n",
        "  if count>1:\n",
        "    print(j)"
      ],
      "execution_count": null,
      "outputs": [
        {
          "output_type": "stream",
          "name": "stdout",
          "text": [
            "5\n",
            "7\n",
            "9\n",
            "10\n",
            "11\n",
            "13\n",
            "15\n"
          ]
        }
      ]
    },
    {
      "cell_type": "code",
      "metadata": {
        "id": "OKJeXJiaCy8k",
        "colab": {
          "base_uri": "https://localhost:8080/"
        },
        "outputId": "7ae06f64-e9c3-41a8-8c4c-8c1a179ed0af"
      },
      "source": [
        "# Display Fibonacci series up to 10 terms\n",
        "# Fibonacci sequence:\n",
        "# 0  1  1  2  3  5  8  13  21  34\n",
        "number = 10\n",
        "no1 = 0\n",
        "no2 = 1\n",
        "i=0\n",
        "print(no1)\n",
        "print(no2)\n",
        "while i<=7:\n",
        "  j=no1+no2\n",
        "  no1=no2\n",
        "  no2=j\n",
        "  i+=1\n",
        "  print(j)\n",
        "  \n",
        "\n",
        "\n",
        "  "
      ],
      "execution_count": null,
      "outputs": [
        {
          "output_type": "stream",
          "name": "stdout",
          "text": [
            "0\n",
            "1\n",
            "1\n",
            "2\n",
            "3\n",
            "5\n",
            "8\n",
            "13\n",
            "21\n",
            "34\n"
          ]
        }
      ]
    },
    {
      "cell_type": "code",
      "metadata": {
        "id": "C8CPG2p3C42r",
        "colab": {
          "base_uri": "https://localhost:8080/"
        },
        "outputId": "184c9615-42d7-45d8-eab1-71cfe386620e"
      },
      "source": [
        "# Write a loop to find the factorial of any number\n",
        "number = 5\n",
        "i=number\n",
        "fact=1\n",
        "while i>=1:\n",
        "  fact = i*fact\n",
        "  i=i-1\n",
        "print(fact)\n"
      ],
      "execution_count": null,
      "outputs": [
        {
          "output_type": "stream",
          "name": "stdout",
          "text": [
            "120\n"
          ]
        }
      ]
    },
    {
      "cell_type": "code",
      "metadata": {
        "id": "JMjYbskODBg0",
        "colab": {
          "base_uri": "https://localhost:8080/"
        },
        "outputId": "402596f6-3d01-474a-b02c-984fe20d5a94"
      },
      "source": [
        "# Use a loop to display elements from a given list that are present at even index positions\n",
        "my_list = [10, 20, 30, 40, 50, 60, 70, 80, 90, 100]\n",
        "new_list = []\n",
        "i=0\n",
        "while i<=(len(my_list))-1:\n",
        "  if i%2==0:\n",
        "    new_list.append(my_list[i])\n",
        "    \n",
        "  i+=1\n",
        "print(new_list)\n"
      ],
      "execution_count": null,
      "outputs": [
        {
          "output_type": "stream",
          "name": "stdout",
          "text": [
            "[10, 30, 50, 70, 90]\n"
          ]
        }
      ]
    },
    {
      "cell_type": "code",
      "metadata": {
        "id": "Msqzn57LDFGb",
        "colab": {
          "base_uri": "https://localhost:8080/"
        },
        "outputId": "76264190-7247-4bfa-df22-bd564070cbf5"
      },
      "source": [
        "# Display the cube of the number up to a given integer\n",
        "integr = 4\n",
        "i=1\n",
        "while i<=integr:\n",
        "  int_cube = i**3\n",
        "  print(int_cube)\n",
        "  i+=1"
      ],
      "execution_count": null,
      "outputs": [
        {
          "output_type": "stream",
          "name": "stdout",
          "text": [
            "1\n",
            "8\n",
            "27\n",
            "64\n"
          ]
        }
      ]
    },
    {
      "cell_type": "code",
      "metadata": {
        "id": "EPtOT3jyDHgV",
        "colab": {
          "base_uri": "https://localhost:8080/"
        },
        "outputId": "4596cf56-a1c3-4fab-fae6-15b296963df1"
      },
      "source": [
        "# Find the sum of the series 2 +22 + 222 + 2222 + .. n terms\n",
        "n = 5\n",
        "i=1\n",
        "num = 0\n",
        "total_value = 0\n",
        "while i<=n:\n",
        "  num1=(num*10)+2\n",
        "  num=num1\n",
        "  print(num1,end=' ')\n",
        "  total_value=total_value+num1\n",
        "  i+=1\n",
        "\n",
        "print(total_value)\n",
        "\n",
        "\n"
      ],
      "execution_count": null,
      "outputs": [
        {
          "output_type": "stream",
          "name": "stdout",
          "text": [
            "2 22 222 2222 22222 24690\n"
          ]
        }
      ]
    },
    {
      "cell_type": "code",
      "metadata": {
        "id": "Q7Bi9Bz7DQyL",
        "colab": {
          "base_uri": "https://localhost:8080/"
        },
        "outputId": "c5457733-d977-45d6-c95e-b38b780d9c52"
      },
      "source": [
        "# Print the following pattern\n",
        "# * \n",
        "# * * \n",
        "# * * * \n",
        "# * * * * \n",
        "# * * * * * \n",
        "# * * * * \n",
        "# * * * \n",
        "# * * \n",
        "# *\n",
        "\n",
        "n=5\n",
        "i=1\n",
        "while i<=n:\n",
        "  j=1\n",
        "  while j<=i:\n",
        "    print('*',end=' ')\n",
        "    j=j+1\n",
        "  print('\\n')\n",
        "  i=i+1\n",
        "\n",
        "n=5\n",
        "i=n\n",
        "while i>=1:\n",
        "  j=1\n",
        "  while j<i:\n",
        "    print('*',end=' ')\n",
        "    j=j+1\n",
        "  print('\\n')\n",
        "  i=i-1"
      ],
      "execution_count": null,
      "outputs": [
        {
          "output_type": "stream",
          "name": "stdout",
          "text": [
            "* \n",
            "\n",
            "* * \n",
            "\n",
            "* * * \n",
            "\n",
            "* * * * \n",
            "\n",
            "* * * * * \n",
            "\n",
            "* * * * \n",
            "\n",
            "* * * \n",
            "\n",
            "* * \n",
            "\n",
            "* \n",
            "\n",
            "\n",
            "\n"
          ]
        }
      ]
    },
    {
      "cell_type": "code",
      "metadata": {
        "id": "IwUEh_5-DTlU",
        "colab": {
          "base_uri": "https://localhost:8080/"
        },
        "outputId": "436fdc21-7545-4f74-d122-780ad67b2bdb"
      },
      "source": [
        "# Print the following pattern using for loop\n",
        "# 1 \n",
        "# 1 2 \n",
        "# 1 2 3 \n",
        "# 1 2 3 4 \n",
        "# 1 2 3 4 5\n",
        "\n",
        "i=1\n",
        "while i<=5:\n",
        "  j=1\n",
        "  while j<=i:\n",
        "    print(j,end=' ')\n",
        "    j=j+1\n",
        "  print('\\n')\n",
        "  i=i+1\n"
      ],
      "execution_count": null,
      "outputs": [
        {
          "output_type": "stream",
          "name": "stdout",
          "text": [
            "1 \n",
            "\n",
            "1 2 \n",
            "\n",
            "1 2 3 \n",
            "\n",
            "1 2 3 4 \n",
            "\n",
            "1 2 3 4 5 \n",
            "\n"
          ]
        }
      ]
    }
  ]
}